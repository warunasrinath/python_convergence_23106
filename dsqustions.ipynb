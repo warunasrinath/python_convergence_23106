{
 "cells": [
  {
   "cell_type": "code",
   "execution_count": 16,
   "metadata": {},
   "outputs": [
    {
     "name": "stdout",
     "output_type": "stream",
     "text": [
      "616.667\n"
     ]
    }
   ],
   "source": [
    "def calculate_average_transaction_amount(data, category):\n",
    "    total_amount=0\n",
    "    count=0\n",
    "    \n",
    "    \n",
    "    for list_transaction_key in data:\n",
    "        \n",
    "        if list_transaction_key['category'] == category:\n",
    "            total_amount=list_transaction_key['amount'] + total_amount\n",
    "            count+=1\n",
    "    \n",
    "    if count == 0:\n",
    "        return 0\n",
    "    else:\n",
    "        average_amount=total_amount/count\n",
    "        return round(average_amount,3)\n",
    "    \n",
    "\n",
    "\n",
    "data = [\n",
    "    {'product_id': 1, 'category': 'Electronics', 'amount': 500.0},\n",
    "    {'product_id': 2, 'category': 'Clothing', 'amount': 50.0},\n",
    "    {'product_id': 3, 'category': 'Electronics', 'amount': 600.0},\n",
    "    {'product_id': 4, 'category': 'Electronics', 'amount': 750.0},\n",
    "    {'product_id': 5, 'category': 'Clothing', 'amount': 40.0},\n",
    "]\n",
    "\n",
    "average_amount = calculate_average_transaction_amount(data, 'Electronics')\n",
    "print(average_amount)  # Should print 616.6666666666666\n",
    "     "
   ]
  },
  {
   "cell_type": "markdown",
   "metadata": {},
   "source": [
    "Question:\n",
    "\n",
    "You are working with a dataset that contains information about customer transactions. You need to create a Python function that calculates the average transaction amount for a specific category of products. The dataset is provided as a list of dictionaries, where each dictionary represents a transaction with the following keys:\n",
    "\n",
    "'product_id': A unique identifier for the product.\n",
    "'category': The category of the product.\n",
    "'amount': The transaction amount.\n",
    "Write a function calculate_average_transaction_amount(data, category) that takes two arguments:\n",
    "\n",
    "data (list of dictionaries): The dataset containing transaction information.\n",
    "category (str): The product category for which you want to calculate the average transaction amount.\n",
    "The function should calculate and return the average transaction amount for the specified category. If there are no transactions for the given category, the function should return 0.\n",
    "\n",
    "Here's an example of how the function should work:"
   ]
  },
  {
   "cell_type": "code",
   "execution_count": null,
   "metadata": {},
   "outputs": [],
   "source": []
  }
 ],
 "metadata": {
  "kernelspec": {
   "display_name": "tensorflow",
   "language": "python",
   "name": "python3"
  },
  "language_info": {
   "codemirror_mode": {
    "name": "ipython",
    "version": 3
   },
   "file_extension": ".py",
   "mimetype": "text/x-python",
   "name": "python",
   "nbconvert_exporter": "python",
   "pygments_lexer": "ipython3",
   "version": "3.10.10"
  }
 },
 "nbformat": 4,
 "nbformat_minor": 2
}
