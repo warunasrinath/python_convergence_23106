{
 "cells": [
  {
   "cell_type": "code",
   "execution_count": 3,
   "metadata": {},
   "outputs": [
    {
     "name": "stdout",
     "output_type": "stream",
     "text": [
      "toyota\n",
      "civic\n"
     ]
    }
   ],
   "source": [
    "#main class\n",
    "class car:\n",
    "    def __init__(self,make,model):#make and model are attributes\n",
    "        self.make = make\n",
    "        self.model = model\n",
    "#create objects/instances of car class\n",
    "\n",
    "car1=car('toyota','camry')\n",
    "car2=car('honda','civic')\n",
    "\n",
    "#Accessing\n",
    "print(car1.make)\n",
    "print(car2.model)"
   ]
  },
  {
   "cell_type": "code",
   "execution_count": 10,
   "metadata": {},
   "outputs": [
    {
     "name": "stdout",
     "output_type": "stream",
     "text": [
      "BMW\n",
      "A5\n",
      "Speed: BMW, 520D is 80Kmh/s\n",
      "starting engine\n"
     ]
    }
   ],
   "source": [
    "#main class\n",
    "class car:\n",
    "    def __init__(self,make,model):#make and model are attributes\n",
    "        self.make = make\n",
    "        self.model = model\n",
    "    #Create methods\n",
    "    def display_info(self):\n",
    "        print(f\"Speed: {self.make}, {self.model} is 80Kmh/s\")\n",
    "        # print(f\"Car: {self.make}, Model: {self.model}\")\n",
    "    #create methods(function)\n",
    "    def start_engine(self):\n",
    "        print('starting engine')\n",
    "\n",
    "class Main:\n",
    "    car3 = car('BMW','520D')\n",
    "    car4 = car('AUDI','A5')\n",
    "#Accesing object attributes\n",
    "    print(car3.make)\n",
    "    print(car4.model)\n",
    "#Calling to objects methods\n",
    "    car3.display_info()\n",
    "    car4.start_engine()\n",
    "  \n",
    "  \n",
    "# In Python, the if __name__ == '__main__': \n",
    "# block is typically used to define code that should only run when the script is executed directly (as opposed to being imported as a module into another script). \n",
    "# It's not necessary to add this block if you don't intend to run the code inside a separate script.\n",
    "    \n",
    "# if __name__ =='__main__':\n",
    "#     main = Main()\n",
    "#     main.main()"
   ]
  },
  {
   "cell_type": "code",
   "execution_count": 11,
   "metadata": {},
   "outputs": [
    {
     "name": "stdout",
     "output_type": "stream",
     "text": [
      "BMW\n",
      "A5\n",
      "Speed: BMW, 520D is 80Kmh/s\n",
      "Starting engine\n"
     ]
    }
   ],
   "source": [
    "class Car:\n",
    "    def __init__(self, make, model):\n",
    "        self.make = make\n",
    "        self.model = model\n",
    "\n",
    "    def display_info(self):\n",
    "        print(f\"Speed: {self.make}, {self.model} is 80Kmh/s\")\n",
    "\n",
    "    def start_engine(self):\n",
    "        print('Starting engine')\n",
    "\n",
    "# Create instances of the Car class\n",
    "car3 = Car('BMW', '520D')\n",
    "car4 = Car('AUDI', 'A5')\n",
    "\n",
    "# Access object attributes\n",
    "print(car3.make)\n",
    "print(car4.model)\n",
    "\n",
    "# Call object methods\n",
    "car3.display_info()\n",
    "car4.start_engine()"
   ]
  },
  {
   "cell_type": "code",
   "execution_count": 14,
   "metadata": {},
   "outputs": [],
   "source": [
    "# #In python adding 'SELF' as the first parameter \n",
    "# # in function definition is normaly doing when you are defining a method withing the class\n",
    "\n",
    "# class MyClass():\n",
    "#     def method(self,n):\n",
    "#         result=\"\"\n",
    "#         #code\n",
    "#         for i in range(1,n+1):\n",
    "#             result+ = str(i) #intiger convert to string\n",
    "\n",
    "# if __name__ == \"__main__\":\n",
    "#     #read the integer from STDIN\n",
    "#     n=int(input())\n",
    "#     #create an instance of MyClass\n",
    "#     my_instance = MyClass()\n",
    "    \n",
    "#     #Now call to execute the method\n",
    "#     output = my_instance.method()\n",
    "#     print(output)"
   ]
  },
  {
   "cell_type": "markdown",
   "metadata": {},
   "source": [
    "Q. Write a Python function called sum_even_numbers that takes a list of numbers as input and returns the sum of all even numbers in the list."
   ]
  },
  {
   "cell_type": "code",
   "execution_count": 16,
   "metadata": {},
   "outputs": [
    {
     "name": "stdout",
     "output_type": "stream",
     "text": [
      "20\n"
     ]
    }
   ],
   "source": [
    "def sum_even_numbers(numbers):\n",
    "    # Initialize a variable to store the sum of even numbers\n",
    "    even_sum = 0\n",
    "    \n",
    "    # Iterate through the list of numbers\n",
    "    for num in numbers:\n",
    "        # Check if the number is even\n",
    "        if num % 2 == 0:\n",
    "            # Add the even number to the sum\n",
    "            even_sum += num\n",
    "    \n",
    "    return even_sum\n",
    "\n",
    "# Test the function\n",
    "numbers = [1, 2, 3, 4, 5, 6, 7, 8]\n",
    "result = sum_even_numbers(numbers)\n",
    "print(result)\n"
   ]
  },
  {
   "cell_type": "code",
   "execution_count": 19,
   "metadata": {},
   "outputs": [
    {
     "name": "stdout",
     "output_type": "stream",
     "text": [
      "20\n"
     ]
    }
   ],
   "source": [
    "class Num:\n",
    "    def sum_even_numbers():\n",
    "        for num in numbers:\n",
    "            if num%2==0:\n",
    "                even_sum=num+evn_sum\n",
    "        return even_sum   \n",
    "\n",
    "#Create an instance of num class\n",
    "num_instance = Num()\n",
    "\n",
    "numbers = [1, 2, 3, 4, 5, 6, 7, 8]\n",
    "result = sum_even_numbers(numbers)\n",
    "print(result)\n"
   ]
  },
  {
   "cell_type": "code",
   "execution_count": null,
   "metadata": {},
   "outputs": [],
   "source": []
  }
 ],
 "metadata": {
  "kernelspec": {
   "display_name": "tensorflow",
   "language": "python",
   "name": "python3"
  },
  "language_info": {
   "codemirror_mode": {
    "name": "ipython",
    "version": 3
   },
   "file_extension": ".py",
   "mimetype": "text/x-python",
   "name": "python",
   "nbconvert_exporter": "python",
   "pygments_lexer": "ipython3",
   "version": "3.10.10"
  }
 },
 "nbformat": 4,
 "nbformat_minor": 2
}
