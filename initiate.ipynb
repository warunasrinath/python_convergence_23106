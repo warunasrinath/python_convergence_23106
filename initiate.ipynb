{
 "cells": [
  {
   "cell_type": "code",
   "execution_count": 3,
   "metadata": {},
   "outputs": [
    {
     "name": "stdout",
     "output_type": "stream",
     "text": [
      "toyota\n",
      "civic\n"
     ]
    }
   ],
   "source": [
    "#main class\n",
    "class car:\n",
    "    def __init__(self,make,model):#make and model are attributes\n",
    "        self.make = make\n",
    "        self.model = model\n",
    "#create objects/instances of car class\n",
    "\n",
    "car1=car('toyota','camry')\n",
    "car2=car('honda','civic')\n",
    "\n",
    "#Accessing\n",
    "print(car1.make)\n",
    "print(car2.model)"
   ]
  },
  {
   "cell_type": "code",
   "execution_count": null,
   "metadata": {},
   "outputs": [],
   "source": []
  }
 ],
 "metadata": {
  "kernelspec": {
   "display_name": "tensorflow",
   "language": "python",
   "name": "python3"
  },
  "language_info": {
   "codemirror_mode": {
    "name": "ipython",
    "version": 3
   },
   "file_extension": ".py",
   "mimetype": "text/x-python",
   "name": "python",
   "nbconvert_exporter": "python",
   "pygments_lexer": "ipython3",
   "version": "3.10.10"
  }
 },
 "nbformat": 4,
 "nbformat_minor": 2
}
